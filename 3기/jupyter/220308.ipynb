{
 "cells": [
  {
   "cell_type": "code",
   "execution_count": null,
   "metadata": {},
   "outputs": [],
   "source": [
    "import pandas as pd\n",
    "\n",
    "class Change_dt():\n",
    "    def __init__(self, input_url):\n",
    "        self.url = input_url\n",
    "    \n",
    "    def csv_read(self, input_sort = \"Country\", input_inplace = True):\n",
    "        self.dt = pd.read_csv(self.url) \n",
    "        self.dt.sort_values(input_sort, inplace=input_inplace)\n",
    "        self.dt.reset_index(drop=True, inplace=input_inplace)\n",
    "        return self.dt\n",
    "\n",
    "    def remove_column(self, input_list = []):\n",
    "        self.dt.drop(input_list, axis=1, inplace=True)\n",
    "        return self.dt\n",
    "\n",
    "    def remove_2(self, input_s_column, input_e_column):\n",
    "        self.dt.drop(self.dt.loc[:,input_s_column:input_e_column], axis = 1, inplace=True)\n",
    "        return self.dt\n",
    "\n",
    "dt = Change_dt(\"./csv/Sales Records.csv\")\n"
   ]
  },
  {
   "cell_type": "markdown",
   "metadata": {},
   "source": [
    "### class 하나 생성\n",
    "1. 인자값으로 url(주소) -> csv 파일의 주소(상대경로)\n",
    "2. 함수를 하나 생성 -> url에 있는 csv 파일을 읽어오고, 'Country'기준으로 sort, 인덱스 값을 초기화\n",
    "3. 함수를 하나 생성 -> 인자값을 리스트로 받는다. -> 이 매개변수를 기준으로 columns 삭제"
   ]
  },
  {
   "cell_type": "markdown",
   "metadata": {},
   "source": []
  },
  {
   "cell_type": "code",
   "execution_count": null,
   "metadata": {},
   "outputs": [],
   "source": [
    "dt.csv_read()"
   ]
  },
  {
   "cell_type": "code",
   "execution_count": null,
   "metadata": {},
   "outputs": [],
   "source": [
    "dt.remove_2(\"Item Type\", \"Order Date\")"
   ]
  },
  {
   "cell_type": "code",
   "execution_count": null,
   "metadata": {},
   "outputs": [],
   "source": [
    "import mod1 \n",
    "import imp\n",
    "imp.reload(mod1)"
   ]
  },
  {
   "cell_type": "code",
   "execution_count": null,
   "metadata": {},
   "outputs": [],
   "source": [
    "mod1.add(5,3)"
   ]
  },
  {
   "cell_type": "code",
   "execution_count": null,
   "metadata": {},
   "outputs": [],
   "source": [
    "mod1.sub(5, 3)"
   ]
  },
  {
   "cell_type": "code",
   "execution_count": null,
   "metadata": {},
   "outputs": [],
   "source": [
    "from mod3 import add, sub"
   ]
  },
  {
   "cell_type": "code",
   "execution_count": null,
   "metadata": {},
   "outputs": [],
   "source": [
    "add(5,3)"
   ]
  },
  {
   "cell_type": "code",
   "execution_count": null,
   "metadata": {},
   "outputs": [],
   "source": [
    "sub(5, 3)"
   ]
  },
  {
   "cell_type": "code",
   "execution_count": null,
   "metadata": {},
   "outputs": [],
   "source": [
    "import mod4\n",
    "\n",
    "dt = mod4.Change_dt_2(\"./csv/Sales Records.csv\")"
   ]
  },
  {
   "cell_type": "code",
   "execution_count": null,
   "metadata": {},
   "outputs": [],
   "source": [
    "dt.csv_read()"
   ]
  },
  {
   "cell_type": "code",
   "execution_count": null,
   "metadata": {},
   "outputs": [],
   "source": [
    "dt.remove_2(\"Item Type\", \"Order Date\")"
   ]
  },
  {
   "cell_type": "code",
   "execution_count": null,
   "metadata": {},
   "outputs": [],
   "source": [
    "from mod4 import Change_dt_2 as ct\n",
    "\n",
    "dt_2 = ct(\"./csv/Sales Records.csv\")"
   ]
  },
  {
   "cell_type": "code",
   "execution_count": null,
   "metadata": {},
   "outputs": [],
   "source": [
    "dt_2.csv_read()"
   ]
  },
  {
   "cell_type": "code",
   "execution_count": null,
   "metadata": {},
   "outputs": [],
   "source": [
    "\n",
    "\n",
    "list_a = [5,2,8,1]\n",
    "\n",
    "for list in list_a:\n",
    "    print(list)"
   ]
  },
  {
   "cell_type": "code",
   "execution_count": null,
   "metadata": {},
   "outputs": [],
   "source": [
    "for i in range(0, 4, 1):\n",
    "    print(list_a[i])"
   ]
  },
  {
   "cell_type": "code",
   "execution_count": null,
   "metadata": {},
   "outputs": [],
   "source": [
    "for i in range(6):\n",
    "    for j in range(6):\n",
    "        print(i, j)"
   ]
  },
  {
   "cell_type": "code",
   "execution_count": null,
   "metadata": {},
   "outputs": [],
   "source": [
    "a = (1,2,3,4)\n",
    "b = [4,3,2,1]\n",
    "c = {\"name\":\"test\", \"age\":20}\n",
    "print(a[1])\n",
    "print(b[2])\n",
    "print(c[\"name\"])"
   ]
  },
  {
   "cell_type": "code",
   "execution_count": null,
   "metadata": {},
   "outputs": [],
   "source": [
    "a = [{\"name\": \"test\", \"age\" : 20}]\n",
    "b = pd.DataFrame(a)\n",
    "print(b[\"name\"])"
   ]
  },
  {
   "cell_type": "code",
   "execution_count": null,
   "metadata": {},
   "outputs": [],
   "source": [
    "import numpy as  np"
   ]
  },
  {
   "cell_type": "code",
   "execution_count": null,
   "metadata": {},
   "outputs": [],
   "source": [
    "n_a = np.random.random((10,2))\n",
    "\n",
    "n_a"
   ]
  },
  {
   "cell_type": "code",
   "execution_count": null,
   "metadata": {},
   "outputs": [],
   "source": [
    "dt = pd.DataFrame(n_a)\n",
    "dt\n"
   ]
  },
  {
   "cell_type": "code",
   "execution_count": null,
   "metadata": {},
   "outputs": [],
   "source": [
    "dt[1].round(0)"
   ]
  },
  {
   "cell_type": "code",
   "execution_count": null,
   "metadata": {},
   "outputs": [],
   "source": [
    "dt[1].apply(lambda x : 1 if (x>0.5) else 0)"
   ]
  },
  {
   "cell_type": "code",
   "execution_count": null,
   "metadata": {},
   "outputs": [],
   "source": [
    "def _round(x):\n",
    "    if x > 0.5:\n",
    "        return 1\n",
    "    else:\n",
    "        return 0\n",
    "\n",
    "dt[1].apply(_round)"
   ]
  },
  {
   "cell_type": "code",
   "execution_count": 98,
   "metadata": {},
   "outputs": [],
   "source": [
    "class Class_1():\n",
    "    def a(self):\n",
    "        print(\"Class_1\")\n",
    "\n",
    "class Class_2():\n",
    "    def b(self):\n",
    "        print(\"Class_2\")\n",
    "\n",
    "class Class_3(Class_1, Class_2):\n",
    "    def c(self):\n",
    "        print(\"Class_3\")\n",
    "\n",
    "x = Class_3()"
   ]
  },
  {
   "cell_type": "code",
   "execution_count": 99,
   "metadata": {},
   "outputs": [
    {
     "name": "stdout",
     "output_type": "stream",
     "text": [
      "Class_2\n"
     ]
    }
   ],
   "source": [
    "x.b()"
   ]
  },
  {
   "cell_type": "code",
   "execution_count": null,
   "metadata": {},
   "outputs": [],
   "source": []
  }
 ],
 "metadata": {
  "interpreter": {
   "hash": "c22e33c9a27a2bb1a040a4ca92603677d3f3eab3ec561d889cf82069a29b9323"
  },
  "kernelspec": {
   "display_name": "Python 3.10.2 64-bit",
   "language": "python",
   "name": "python3"
  },
  "language_info": {
   "codemirror_mode": {
    "name": "ipython",
    "version": 3
   },
   "file_extension": ".py",
   "mimetype": "text/x-python",
   "name": "python",
   "nbconvert_exporter": "python",
   "pygments_lexer": "ipython3",
   "version": "3.10.2"
  },
  "orig_nbformat": 4
 },
 "nbformat": 4,
 "nbformat_minor": 2
}
