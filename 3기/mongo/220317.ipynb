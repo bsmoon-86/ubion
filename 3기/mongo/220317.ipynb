{
 "cells": [
  {
   "cell_type": "code",
   "execution_count": 1,
   "metadata": {},
   "outputs": [],
   "source": [
    "from pymongo import MongoClient"
   ]
  },
  {
   "cell_type": "code",
   "execution_count": 2,
   "metadata": {},
   "outputs": [],
   "source": [
    "client = MongoClient(\n",
    "    host = 'localhost',\n",
    "    port = 27017\n",
    ")"
   ]
  },
  {
   "cell_type": "code",
   "execution_count": 3,
   "metadata": {},
   "outputs": [
    {
     "data": {
      "text/plain": [
       "['admin', 'config', 'local', 'ubion']"
      ]
     },
     "execution_count": 3,
     "metadata": {},
     "output_type": "execute_result"
    }
   ],
   "source": [
    "client.list_database_names()"
   ]
  },
  {
   "cell_type": "code",
   "execution_count": 4,
   "metadata": {},
   "outputs": [
    {
     "data": {
      "text/plain": [
       "[{'_id': ObjectId('62328e7688460e6c2eeb343f'),\n",
       "  'name': 'test',\n",
       "  'phone': '01012345678'},\n",
       " {'_id': ObjectId('6232905288460e6c2eeb3441'), 'loc': 'Seoul'},\n",
       " {'_id': ObjectId('6232905288460e6c2eeb3442'),\n",
       "  'gender': 'male',\n",
       "  'age': 20.0,\n",
       "  'hobby': 'soccer'},\n",
       " {'_id': ObjectId('6232919388460e6c2eeb3443'), 'name': 'test2', 'age': 40.0},\n",
       " {'_id': ObjectId('623297d8801b914908fa80af'), '1': '1', '2': '2', '3': '3'},\n",
       " {'_id': ObjectId('623299c9801b914908fa80b0'), '1': '2'},\n",
       " {'_id': ObjectId('623299c9801b914908fa80b1'), '3': '4'}]"
      ]
     },
     "execution_count": 4,
     "metadata": {},
     "output_type": "execute_result"
    }
   ],
   "source": [
    "db = client[\"ubion\"]\n",
    "list(db[\"test\"].find())"
   ]
  },
  {
   "cell_type": "code",
   "execution_count": 5,
   "metadata": {},
   "outputs": [
    {
     "data": {
      "text/plain": [
       "<pymongo.results.InsertOneResult at 0x266bb95e800>"
      ]
     },
     "execution_count": 5,
     "metadata": {},
     "output_type": "execute_result"
    }
   ],
   "source": [
    "data = {\n",
    "    \"1\" : \"1\",\n",
    "    \"2\" : \"2\",\n",
    "    \"3\" : \"3\"\n",
    "}\n",
    "\n",
    "db.test.insert_one(data)"
   ]
  },
  {
   "cell_type": "code",
   "execution_count": 6,
   "metadata": {},
   "outputs": [
    {
     "data": {
      "text/plain": [
       "<pymongo.results.InsertManyResult at 0x266bb959e00>"
      ]
     },
     "execution_count": 6,
     "metadata": {},
     "output_type": "execute_result"
    }
   ],
   "source": [
    "### data 변수 만들어서 insert_many 를 사용해볼것!\n",
    "data = [{\n",
    "    \"1\":\"2\"\n",
    "}, \n",
    "{\n",
    "    \"3\" : \"4\"\n",
    "}]\n",
    "\n",
    "db.test.insert_many(data)"
   ]
  },
  {
   "cell_type": "code",
   "execution_count": 7,
   "metadata": {},
   "outputs": [
    {
     "data": {
      "text/plain": [
       "[{'_id': ObjectId('62328e7688460e6c2eeb343f'),\n",
       "  'name': 'test',\n",
       "  'phone': '01012345678'},\n",
       " {'_id': ObjectId('6232905288460e6c2eeb3441'), 'loc': 'Seoul'},\n",
       " {'_id': ObjectId('6232905288460e6c2eeb3442'),\n",
       "  'gender': 'male',\n",
       "  'age': 20.0,\n",
       "  'hobby': 'soccer'},\n",
       " {'_id': ObjectId('6232919388460e6c2eeb3443'), 'name': 'test2', 'age': 40.0},\n",
       " {'_id': ObjectId('623297d8801b914908fa80af'), '1': '1', '2': '2', '3': '3'},\n",
       " {'_id': ObjectId('623299c9801b914908fa80b0'), '1': '2'},\n",
       " {'_id': ObjectId('623299c9801b914908fa80b1'), '3': '4'},\n",
       " {'_id': ObjectId('6232bc540b668bb568312842'), '1': '1', '2': '2', '3': '3'},\n",
       " {'_id': ObjectId('6232bc540b668bb568312843'), '1': '2'},\n",
       " {'_id': ObjectId('6232bc540b668bb568312844'), '3': '4'}]"
      ]
     },
     "execution_count": 7,
     "metadata": {},
     "output_type": "execute_result"
    }
   ],
   "source": [
    "list(db.test.find())"
   ]
  },
  {
   "cell_type": "code",
   "execution_count": 8,
   "metadata": {},
   "outputs": [
    {
     "data": {
      "text/plain": [
       "'ubion'"
      ]
     },
     "execution_count": 8,
     "metadata": {},
     "output_type": "execute_result"
    }
   ],
   "source": [
    "db.name"
   ]
  },
  {
   "cell_type": "code",
   "execution_count": 9,
   "metadata": {},
   "outputs": [
    {
     "data": {
      "text/plain": [
       "<bound method Database.list_collection_names of Database(MongoClient(host=['localhost:27017'], document_class=dict, tz_aware=False, connect=True), 'ubion')>"
      ]
     },
     "execution_count": 9,
     "metadata": {},
     "output_type": "execute_result"
    }
   ],
   "source": [
    "db.list_collection_names"
   ]
  },
  {
   "cell_type": "code",
   "execution_count": 10,
   "metadata": {},
   "outputs": [
    {
     "data": {
      "text/plain": [
       "Database(MongoClient(host=['localhost:27017'], document_class=dict, tz_aware=False, connect=True), 'ubion')"
      ]
     },
     "execution_count": 10,
     "metadata": {},
     "output_type": "execute_result"
    }
   ],
   "source": [
    "db"
   ]
  },
  {
   "cell_type": "code",
   "execution_count": 11,
   "metadata": {},
   "outputs": [
    {
     "data": {
      "text/plain": [
       "<pymongo.results.InsertManyResult at 0x266bb958b40>"
      ]
     },
     "execution_count": 11,
     "metadata": {},
     "output_type": "execute_result"
    }
   ],
   "source": [
    "db.test2.insert_many(\n",
    "    [\n",
    "        {'number' : i} for i in range(10)\n",
    "    ]\n",
    ")"
   ]
  },
  {
   "cell_type": "code",
   "execution_count": 12,
   "metadata": {},
   "outputs": [
    {
     "data": {
      "text/plain": [
       "[{'_id': ObjectId('6232b091801b914908fa80b2'), 'number': 0},\n",
       " {'_id': ObjectId('6232b091801b914908fa80b3'), 'number': 1},\n",
       " {'_id': ObjectId('6232b091801b914908fa80b4'), 'number': 2},\n",
       " {'_id': ObjectId('6232b091801b914908fa80b5'), 'number': 3},\n",
       " {'_id': ObjectId('6232b091801b914908fa80b6'), 'number': 4},\n",
       " {'_id': ObjectId('6232b091801b914908fa80b7'), 'number': 5},\n",
       " {'_id': ObjectId('6232b091801b914908fa80b8'), 'number': 6},\n",
       " {'_id': ObjectId('6232b091801b914908fa80b9'), 'number': 7},\n",
       " {'_id': ObjectId('6232b091801b914908fa80ba'), 'number': 8},\n",
       " {'_id': ObjectId('6232b091801b914908fa80bb'), 'number': 9},\n",
       " {'_id': ObjectId('6232bc540b668bb568312845'), 'number': 0},\n",
       " {'_id': ObjectId('6232bc540b668bb568312846'), 'number': 1},\n",
       " {'_id': ObjectId('6232bc540b668bb568312847'), 'number': 2},\n",
       " {'_id': ObjectId('6232bc540b668bb568312848'), 'number': 3},\n",
       " {'_id': ObjectId('6232bc540b668bb568312849'), 'number': 4},\n",
       " {'_id': ObjectId('6232bc540b668bb56831284a'), 'number': 5},\n",
       " {'_id': ObjectId('6232bc540b668bb56831284b'), 'number': 6},\n",
       " {'_id': ObjectId('6232bc540b668bb56831284c'), 'number': 7},\n",
       " {'_id': ObjectId('6232bc540b668bb56831284d'), 'number': 8},\n",
       " {'_id': ObjectId('6232bc540b668bb56831284e'), 'number': 9}]"
      ]
     },
     "execution_count": 12,
     "metadata": {},
     "output_type": "execute_result"
    }
   ],
   "source": [
    "list(db.test2.find())"
   ]
  },
  {
   "cell_type": "code",
   "execution_count": 13,
   "metadata": {},
   "outputs": [],
   "source": [
    "import mod_sql\n",
    "import pandas as pd\n",
    "import pprint"
   ]
  },
  {
   "cell_type": "code",
   "execution_count": 14,
   "metadata": {},
   "outputs": [],
   "source": [
    "_db = mod_sql.Database()"
   ]
  },
  {
   "cell_type": "code",
   "execution_count": 15,
   "metadata": {},
   "outputs": [],
   "source": [
    "sql = \"\"\"\n",
    "        SELECT * FROM emp\n",
    "    \"\"\"\n",
    "result = _db.executeAll(sql)\n",
    "pd.DataFrame(result).to_csv(\"emp.csv\")"
   ]
  },
  {
   "cell_type": "code",
   "execution_count": 16,
   "metadata": {},
   "outputs": [
    {
     "data": {
      "text/plain": [
       "{'Unnamed: 0': {0: 0,\n",
       "  1: 1,\n",
       "  2: 2,\n",
       "  3: 3,\n",
       "  4: 4,\n",
       "  5: 5,\n",
       "  6: 6,\n",
       "  7: 7,\n",
       "  8: 8,\n",
       "  9: 9,\n",
       "  10: 10,\n",
       "  11: 11,\n",
       "  12: 12,\n",
       "  13: 13},\n",
       " 'EMPNO': {0: 7369,\n",
       "  1: 7499,\n",
       "  2: 7521,\n",
       "  3: 7566,\n",
       "  4: 7654,\n",
       "  5: 7698,\n",
       "  6: 7782,\n",
       "  7: 7788,\n",
       "  8: 7839,\n",
       "  9: 7844,\n",
       "  10: 7876,\n",
       "  11: 7900,\n",
       "  12: 7902,\n",
       "  13: 7934},\n",
       " 'ENAME': {0: 'SMITH',\n",
       "  1: 'ALLEN',\n",
       "  2: 'WARD',\n",
       "  3: 'JONES',\n",
       "  4: 'MARTIN',\n",
       "  5: 'BLAKE',\n",
       "  6: 'CLARK',\n",
       "  7: 'SCOTT',\n",
       "  8: 'KING',\n",
       "  9: 'TURNER',\n",
       "  10: 'ADAMS',\n",
       "  11: 'JAMES',\n",
       "  12: 'FORD',\n",
       "  13: 'MILLER'},\n",
       " 'JOB': {0: 'CLERK',\n",
       "  1: 'SALESMAN',\n",
       "  2: 'SALESMAN',\n",
       "  3: 'MANAGER',\n",
       "  4: 'SALESMAN',\n",
       "  5: 'MANAGER',\n",
       "  6: 'MANAGER',\n",
       "  7: 'ANALYST',\n",
       "  8: 'PRESIDENT',\n",
       "  9: 'SALESMAN',\n",
       "  10: 'CLERK',\n",
       "  11: 'CLERK',\n",
       "  12: 'ANALYST',\n",
       "  13: 'CLERK'},\n",
       " 'MGR': {0: 7902.0,\n",
       "  1: 7698.0,\n",
       "  2: 7698.0,\n",
       "  3: 7839.0,\n",
       "  4: 7698.0,\n",
       "  5: 7839.0,\n",
       "  6: 7839.0,\n",
       "  7: 7566.0,\n",
       "  8: nan,\n",
       "  9: 7698.0,\n",
       "  10: 7788.0,\n",
       "  11: 7698.0,\n",
       "  12: 7566.0,\n",
       "  13: 7782.0},\n",
       " 'HIREDATE': {0: '1980-12-17',\n",
       "  1: '1981-02-20',\n",
       "  2: '1981-02-22',\n",
       "  3: '1981-04-02',\n",
       "  4: '1981-09-28',\n",
       "  5: '1981-05-01',\n",
       "  6: '1981-06-09',\n",
       "  7: '1987-06-28',\n",
       "  8: '1981-11-17',\n",
       "  9: '1981-09-08',\n",
       "  10: '1987-07-13',\n",
       "  11: '1981-12-03',\n",
       "  12: '1981-12-03',\n",
       "  13: '1982-01-23'},\n",
       " 'SAL': {0: 800.0,\n",
       "  1: 1600.0,\n",
       "  2: 1250.0,\n",
       "  3: 2975.0,\n",
       "  4: 1250.0,\n",
       "  5: 2850.0,\n",
       "  6: 2450.0,\n",
       "  7: 3000.0,\n",
       "  8: 5000.0,\n",
       "  9: 1500.0,\n",
       "  10: 1100.0,\n",
       "  11: 950.0,\n",
       "  12: 3000.0,\n",
       "  13: 1300.0},\n",
       " 'COMM': {0: nan,\n",
       "  1: 300.0,\n",
       "  2: 500.0,\n",
       "  3: nan,\n",
       "  4: 1400.0,\n",
       "  5: nan,\n",
       "  6: nan,\n",
       "  7: nan,\n",
       "  8: nan,\n",
       "  9: 0.0,\n",
       "  10: nan,\n",
       "  11: nan,\n",
       "  12: nan,\n",
       "  13: nan},\n",
       " 'DEPTNO': {0: 20,\n",
       "  1: 30,\n",
       "  2: 30,\n",
       "  3: 20,\n",
       "  4: 30,\n",
       "  5: 30,\n",
       "  6: 10,\n",
       "  7: 20,\n",
       "  8: 10,\n",
       "  9: 30,\n",
       "  10: 20,\n",
       "  11: 30,\n",
       "  12: 20,\n",
       "  13: 10}}"
      ]
     },
     "execution_count": 16,
     "metadata": {},
     "output_type": "execute_result"
    }
   ],
   "source": [
    "pd.read_csv(\"emp.csv\").to_dict()"
   ]
  },
  {
   "cell_type": "code",
   "execution_count": 17,
   "metadata": {},
   "outputs": [
    {
     "data": {
      "text/plain": [
       "{'_id': ObjectId('6232b71bb5e5ff919f25b358'),\n",
       " 'EMPNO': '7369',\n",
       " 'ENAME': 'SMITH',\n",
       " 'JOB': 'CLERK',\n",
       " 'MGR': '7902',\n",
       " 'HIREDATE': '1980-12-17',\n",
       " 'SAL': '800.00',\n",
       " 'DEPTNO': '20'}"
      ]
     },
     "execution_count": 17,
     "metadata": {},
     "output_type": "execute_result"
    }
   ],
   "source": [
    "db.emp.find_one()"
   ]
  },
  {
   "cell_type": "code",
   "execution_count": 18,
   "metadata": {},
   "outputs": [
    {
     "data": {
      "text/plain": [
       "[{'_id': ObjectId('6232b71bb5e5ff919f25b358'),\n",
       "  'EMPNO': '7369',\n",
       "  'ENAME': 'SMITH',\n",
       "  'JOB': 'CLERK',\n",
       "  'MGR': '7902',\n",
       "  'HIREDATE': '1980-12-17',\n",
       "  'SAL': '800.00',\n",
       "  'DEPTNO': '20'}]"
      ]
     },
     "execution_count": 18,
     "metadata": {},
     "output_type": "execute_result"
    }
   ],
   "source": [
    "list(db.emp.find(\n",
    "    {\n",
    "        \"ENAME\" : \"SMITH\"\n",
    "    }\n",
    "))\n",
    "# SELECT * FROM emp WHERE ENAME = \"SMITH\""
   ]
  },
  {
   "cell_type": "code",
   "execution_count": 19,
   "metadata": {},
   "outputs": [
    {
     "name": "stdout",
     "output_type": "stream",
     "text": [
      "{'_id': ObjectId('6232b71bb5e5ff919f25b358'), 'EMPNO': '7369', 'ENAME': 'SMITH', 'JOB': 'CLERK', 'MGR': '7902', 'HIREDATE': '1980-12-17', 'SAL': '800.00', 'DEPTNO': '20'}\n",
      "{'_id': ObjectId('6232b71bb5e5ff919f25b359'), 'EMPNO': '7499', 'ENAME': 'ALLEN', 'JOB': 'SALESMAN', 'MGR': '7698', 'HIREDATE': '1981-02-20', 'SAL': '1600.00', 'COMM': '300.00', 'DEPTNO': '30'}\n",
      "{'_id': ObjectId('6232b71bb5e5ff919f25b35a'), 'EMPNO': '7521', 'ENAME': 'WARD', 'JOB': 'SALESMAN', 'MGR': '7698', 'HIREDATE': '1981-02-22', 'SAL': '1250.00', 'COMM': '500.00', 'DEPTNO': '30'}\n",
      "{'_id': ObjectId('6232b71bb5e5ff919f25b35b'), 'EMPNO': '7566', 'ENAME': 'JONES', 'JOB': 'MANAGER', 'MGR': '7839', 'HIREDATE': '1981-04-02', 'SAL': '2975.00', 'DEPTNO': '20'}\n",
      "{'_id': ObjectId('6232b71bb5e5ff919f25b35c'), 'EMPNO': '7654', 'ENAME': 'MARTIN', 'JOB': 'SALESMAN', 'MGR': '7698', 'HIREDATE': '1981-09-28', 'SAL': '1250.00', 'COMM': '1400.00', 'DEPTNO': '30'}\n",
      "{'_id': ObjectId('6232b71bb5e5ff919f25b35d'), 'EMPNO': '7698', 'ENAME': 'BLAKE', 'JOB': 'MANAGER', 'MGR': '7839', 'HIREDATE': '1981-05-01', 'SAL': '2850.00', 'DEPTNO': '30'}\n",
      "{'_id': ObjectId('6232b71bb5e5ff919f25b35e'), 'EMPNO': '7782', 'ENAME': 'CLARK', 'JOB': 'MANAGER', 'MGR': '7839', 'HIREDATE': '1981-06-09', 'SAL': '2450.00', 'DEPTNO': '10'}\n",
      "{'_id': ObjectId('6232b71bb5e5ff919f25b35f'), 'EMPNO': '7788', 'ENAME': 'SCOTT', 'JOB': 'ANALYST', 'MGR': '7566', 'HIREDATE': '1987-06-28', 'SAL': '3000.00', 'DEPTNO': '20'}\n",
      "{'_id': ObjectId('6232b71bb5e5ff919f25b360'), 'EMPNO': '7839', 'ENAME': 'KING', 'JOB': 'PRESIDENT', 'HIREDATE': '1981-11-17', 'SAL': '5000.00', 'DEPTNO': '10'}\n",
      "{'_id': ObjectId('6232b71bb5e5ff919f25b361'), 'EMPNO': '7844', 'ENAME': 'TURNER', 'JOB': 'SALESMAN', 'MGR': '7698', 'HIREDATE': '1981-09-08', 'SAL': '1500.00', 'COMM': '0.00', 'DEPTNO': '30'}\n",
      "{'_id': ObjectId('6232b71bb5e5ff919f25b362'), 'EMPNO': '7876', 'ENAME': 'ADAMS', 'JOB': 'CLERK', 'MGR': '7788', 'HIREDATE': '1987-07-13', 'SAL': '1100.00', 'DEPTNO': '20'}\n",
      "{'_id': ObjectId('6232b71bb5e5ff919f25b363'), 'EMPNO': '7900', 'ENAME': 'JAMES', 'JOB': 'CLERK', 'MGR': '7698', 'HIREDATE': '1981-12-03', 'SAL': '950.00', 'DEPTNO': '30'}\n",
      "{'_id': ObjectId('6232b71bb5e5ff919f25b364'), 'EMPNO': '7902', 'ENAME': 'FORD', 'JOB': 'ANALYST', 'MGR': '7566', 'HIREDATE': '1981-12-03', 'SAL': '3000.00', 'DEPTNO': '20'}\n",
      "{'_id': ObjectId('6232b71bb5e5ff919f25b365'), 'EMPNO': '7934', 'ENAME': 'MILLER', 'JOB': 'CLERK', 'MGR': '7782', 'HIREDATE': '1982-01-23', 'SAL': '1300.00', 'DEPTNO': '10'}\n"
     ]
    }
   ],
   "source": [
    "result = db.emp.find()\n",
    "\n",
    "for list in result:\n",
    "    print(list)"
   ]
  },
  {
   "cell_type": "code",
   "execution_count": 23,
   "metadata": {},
   "outputs": [
    {
     "name": "stdout",
     "output_type": "stream",
     "text": [
      "{'_id': ObjectId('6232b71bb5e5ff919f25b358'), 'EMPNO': '7369', 'ENAME': 'SMITH', 'DEPTNO': '20'}\n",
      "{'_id': ObjectId('6232b71bb5e5ff919f25b359'), 'EMPNO': '7499', 'ENAME': 'ALLEN', 'DEPTNO': '30'}\n",
      "{'_id': ObjectId('6232b71bb5e5ff919f25b35a'), 'EMPNO': '7521', 'ENAME': 'WARD', 'DEPTNO': '30'}\n",
      "{'_id': ObjectId('6232b71bb5e5ff919f25b35b'), 'EMPNO': '7566', 'ENAME': 'JONES', 'DEPTNO': '20'}\n",
      "{'_id': ObjectId('6232b71bb5e5ff919f25b35c'), 'EMPNO': '7654', 'ENAME': 'MARTIN', 'DEPTNO': '30'}\n",
      "{'_id': ObjectId('6232b71bb5e5ff919f25b35d'), 'EMPNO': '7698', 'ENAME': 'BLAKE', 'DEPTNO': '30'}\n",
      "{'_id': ObjectId('6232b71bb5e5ff919f25b35e'), 'EMPNO': '7782', 'ENAME': 'CLARK', 'DEPTNO': '10'}\n",
      "{'_id': ObjectId('6232b71bb5e5ff919f25b35f'), 'EMPNO': '7788', 'ENAME': 'SCOTT', 'DEPTNO': '20'}\n",
      "{'_id': ObjectId('6232b71bb5e5ff919f25b360'), 'EMPNO': '7839', 'ENAME': 'KING', 'DEPTNO': '10'}\n",
      "{'_id': ObjectId('6232b71bb5e5ff919f25b361'), 'EMPNO': '7844', 'ENAME': 'TURNER', 'DEPTNO': '30'}\n",
      "{'_id': ObjectId('6232b71bb5e5ff919f25b362'), 'EMPNO': '7876', 'ENAME': 'ADAMS', 'DEPTNO': '20'}\n",
      "{'_id': ObjectId('6232b71bb5e5ff919f25b363'), 'EMPNO': '7900', 'ENAME': 'JAMES', 'DEPTNO': '30'}\n",
      "{'_id': ObjectId('6232b71bb5e5ff919f25b364'), 'EMPNO': '7902', 'ENAME': 'FORD', 'DEPTNO': '20'}\n",
      "{'_id': ObjectId('6232b71bb5e5ff919f25b365'), 'EMPNO': '7934', 'ENAME': 'MILLER', 'DEPTNO': '10'}\n"
     ]
    }
   ],
   "source": [
    "## emp collection\n",
    "## key 값이 EMPNO, ENAME, DEPTNO만 출력이 되도록 코드를 작성\n",
    "result = db.emp.find(\n",
    "    {},            # where 조건을 쓸때 사용하는 공간\n",
    "    {\"EMPNO\" : 1,\n",
    "    \"ENAME\" : 1,\n",
    "    \"DEPTNO\" : 1}   #key의 값을 선택할수 있는 공간\n",
    ")\n",
    "for list in result:\n",
    "    print(list)\n",
    "# SELECT EMPNO, ENAME, DEPTNO FROM emp"
   ]
  },
  {
   "cell_type": "code",
   "execution_count": 37,
   "metadata": {},
   "outputs": [
    {
     "name": "stdout",
     "output_type": "stream",
     "text": [
      "{'DEPTNO': '20',\n",
      " 'EMPNO': '7876',\n",
      " 'ENAME': 'ADAMS',\n",
      " 'HIREDATE': '1987-07-13',\n",
      " 'JOB': 'CLERK',\n",
      " 'MGR': '7788',\n",
      " 'SAL': '1100.00',\n",
      " '_id': ObjectId('6232b71bb5e5ff919f25b362')}\n",
      "{'COMM': '300.00',\n",
      " 'DEPTNO': '30',\n",
      " 'EMPNO': '7499',\n",
      " 'ENAME': 'ALLEN',\n",
      " 'HIREDATE': '1981-02-20',\n",
      " 'JOB': 'SALESMAN',\n",
      " 'MGR': '7698',\n",
      " 'SAL': '1600.00',\n",
      " '_id': ObjectId('6232b71bb5e5ff919f25b359')}\n",
      "{'DEPTNO': '30',\n",
      " 'EMPNO': '7698',\n",
      " 'ENAME': 'BLAKE',\n",
      " 'HIREDATE': '1981-05-01',\n",
      " 'JOB': 'MANAGER',\n",
      " 'MGR': '7839',\n",
      " 'SAL': '2850.00',\n",
      " '_id': ObjectId('6232b71bb5e5ff919f25b35d')}\n",
      "{'DEPTNO': '10',\n",
      " 'EMPNO': '7782',\n",
      " 'ENAME': 'CLARK',\n",
      " 'HIREDATE': '1981-06-09',\n",
      " 'JOB': 'MANAGER',\n",
      " 'MGR': '7839',\n",
      " 'SAL': '2450.00',\n",
      " '_id': ObjectId('6232b71bb5e5ff919f25b35e')}\n",
      "{'DEPTNO': '20',\n",
      " 'EMPNO': '7902',\n",
      " 'ENAME': 'FORD',\n",
      " 'HIREDATE': '1981-12-03',\n",
      " 'JOB': 'ANALYST',\n",
      " 'MGR': '7566',\n",
      " 'SAL': '3000.00',\n",
      " '_id': ObjectId('6232b71bb5e5ff919f25b364')}\n",
      "{'DEPTNO': '30',\n",
      " 'EMPNO': '7900',\n",
      " 'ENAME': 'JAMES',\n",
      " 'HIREDATE': '1981-12-03',\n",
      " 'JOB': 'CLERK',\n",
      " 'MGR': '7698',\n",
      " 'SAL': '950.00',\n",
      " '_id': ObjectId('6232b71bb5e5ff919f25b363')}\n",
      "{'DEPTNO': '20',\n",
      " 'EMPNO': '7566',\n",
      " 'ENAME': 'JONES',\n",
      " 'HIREDATE': '1981-04-02',\n",
      " 'JOB': 'MANAGER',\n",
      " 'MGR': '7839',\n",
      " 'SAL': '2975.00',\n",
      " '_id': ObjectId('6232b71bb5e5ff919f25b35b')}\n",
      "{'DEPTNO': '10',\n",
      " 'EMPNO': '7839',\n",
      " 'ENAME': 'KING',\n",
      " 'HIREDATE': '1981-11-17',\n",
      " 'JOB': 'PRESIDENT',\n",
      " 'SAL': '5000.00',\n",
      " '_id': ObjectId('6232b71bb5e5ff919f25b360')}\n",
      "{'COMM': '1400.00',\n",
      " 'DEPTNO': '30',\n",
      " 'EMPNO': '7654',\n",
      " 'ENAME': 'MARTIN',\n",
      " 'HIREDATE': '1981-09-28',\n",
      " 'JOB': 'SALESMAN',\n",
      " 'MGR': '7698',\n",
      " 'SAL': '1250.00',\n",
      " '_id': ObjectId('6232b71bb5e5ff919f25b35c')}\n",
      "{'DEPTNO': '10',\n",
      " 'EMPNO': '7934',\n",
      " 'ENAME': 'MILLER',\n",
      " 'HIREDATE': '1982-01-23',\n",
      " 'JOB': 'CLERK',\n",
      " 'MGR': '7782',\n",
      " 'SAL': '1300.00',\n",
      " '_id': ObjectId('6232b71bb5e5ff919f25b365')}\n",
      "{'DEPTNO': '20',\n",
      " 'EMPNO': '7788',\n",
      " 'ENAME': 'SCOTT',\n",
      " 'HIREDATE': '1987-06-28',\n",
      " 'JOB': 'ANALYST',\n",
      " 'MGR': '7566',\n",
      " 'SAL': '3000.00',\n",
      " '_id': ObjectId('6232b71bb5e5ff919f25b35f')}\n",
      "{'DEPTNO': '20',\n",
      " 'EMPNO': '7369',\n",
      " 'ENAME': 'SMITH',\n",
      " 'HIREDATE': '1980-12-17',\n",
      " 'JOB': 'CLERK',\n",
      " 'MGR': '7902',\n",
      " 'SAL': '800.00',\n",
      " '_id': ObjectId('6232b71bb5e5ff919f25b358')}\n",
      "{'COMM': '0.00',\n",
      " 'DEPTNO': '30',\n",
      " 'EMPNO': '7844',\n",
      " 'ENAME': 'TURNER',\n",
      " 'HIREDATE': '1981-09-08',\n",
      " 'JOB': 'SALESMAN',\n",
      " 'MGR': '7698',\n",
      " 'SAL': '1500.00',\n",
      " '_id': ObjectId('6232b71bb5e5ff919f25b361')}\n",
      "{'COMM': '500.00',\n",
      " 'DEPTNO': '30',\n",
      " 'EMPNO': '7521',\n",
      " 'ENAME': 'WARD',\n",
      " 'HIREDATE': '1981-02-22',\n",
      " 'JOB': 'SALESMAN',\n",
      " 'MGR': '7698',\n",
      " 'SAL': '1250.00',\n",
      " '_id': ObjectId('6232b71bb5e5ff919f25b35a')}\n"
     ]
    }
   ],
   "source": [
    "result = db.emp.find().sort(\"ENAME\")\n",
    "\n",
    "for list in result:\n",
    "    pprint.pprint(list)\n",
    "\n",
    "# SELECT * FROM emp ORDER BY ENAME"
   ]
  },
  {
   "cell_type": "code",
   "execution_count": 54,
   "metadata": {},
   "outputs": [
    {
     "name": "stdout",
     "output_type": "stream",
     "text": [
      "{'_id': ObjectId('6232c695b5e5ff919f25b37b'), 'EMPNO': 7566, 'ENAME': 'JONES', 'JOB': 'MANAGER', 'MGR': 7839, 'HIREDATE': '1981-04-02', 'SAL': 2975.0, 'DEPTNO': '20'}\n",
      "{'_id': ObjectId('6232c695b5e5ff919f25b37d'), 'EMPNO': 7698, 'ENAME': 'BLAKE', 'JOB': 'MANAGER', 'MGR': 7839, 'HIREDATE': '1981-05-01', 'SAL': 2850.0, 'DEPTNO': '30'}\n",
      "{'_id': ObjectId('6232c695b5e5ff919f25b37e'), 'EMPNO': 7782, 'ENAME': 'CLARK', 'JOB': 'MANAGER', 'MGR': 7839, 'HIREDATE': '1981-06-09', 'SAL': 2450.0, 'DEPTNO': '10'}\n",
      "{'_id': ObjectId('6232c695b5e5ff919f25b37f'), 'EMPNO': 7788, 'ENAME': 'SCOTT', 'JOB': 'ANALYST', 'MGR': 7566, 'HIREDATE': '1987-06-28', 'SAL': 3000.0, 'DEPTNO': '20'}\n",
      "{'_id': ObjectId('6232c695b5e5ff919f25b380'), 'EMPNO': 7839, 'ENAME': 'KING', 'JOB': 'PRESIDENT', 'HIREDATE': '1981-11-17', 'SAL': 5000.0, 'DEPTNO': '10'}\n",
      "{'_id': ObjectId('6232c695b5e5ff919f25b384'), 'EMPNO': 7902, 'ENAME': 'FORD', 'JOB': 'ANALYST', 'MGR': 7566, 'HIREDATE': '1981-12-03', 'SAL': 3000.0, 'DEPTNO': '20'}\n"
     ]
    }
   ],
   "source": [
    "# 급여가 2000보다 큰 데이터만 출력\n",
    "result = db.emp.find(\n",
    "    {\n",
    "        \"SAL\" : {\n",
    "            \"$gt\": 2000\n",
    "        }\n",
    "    }\n",
    ")\n",
    "for list in result:\n",
    "    print(list)\n",
    "\n",
    "# SELECT * FROM emp WHERE SAL > 2000"
   ]
  },
  {
   "cell_type": "code",
   "execution_count": 55,
   "metadata": {},
   "outputs": [
    {
     "name": "stdout",
     "output_type": "stream",
     "text": [
      "{'_id': ObjectId('6232c695b5e5ff919f25b37b'), 'EMPNO': 7566, 'ENAME': 'JONES', 'JOB': 'MANAGER', 'MGR': 7839, 'HIREDATE': '1981-04-02', 'SAL': 2975.0, 'DEPTNO': '20'}\n",
      "{'_id': ObjectId('6232c695b5e5ff919f25b37d'), 'EMPNO': 7698, 'ENAME': 'BLAKE', 'JOB': 'MANAGER', 'MGR': 7839, 'HIREDATE': '1981-05-01', 'SAL': 2850.0, 'DEPTNO': '30'}\n",
      "{'_id': ObjectId('6232c695b5e5ff919f25b37e'), 'EMPNO': 7782, 'ENAME': 'CLARK', 'JOB': 'MANAGER', 'MGR': 7839, 'HIREDATE': '1981-06-09', 'SAL': 2450.0, 'DEPTNO': '10'}\n",
      "{'_id': ObjectId('6232c695b5e5ff919f25b37f'), 'EMPNO': 7788, 'ENAME': 'SCOTT', 'JOB': 'ANALYST', 'MGR': 7566, 'HIREDATE': '1987-06-28', 'SAL': 3000.0, 'DEPTNO': '20'}\n",
      "{'_id': ObjectId('6232c695b5e5ff919f25b380'), 'EMPNO': 7839, 'ENAME': 'KING', 'JOB': 'PRESIDENT', 'HIREDATE': '1981-11-17', 'SAL': 5000.0, 'DEPTNO': '10'}\n",
      "{'_id': ObjectId('6232c695b5e5ff919f25b384'), 'EMPNO': 7902, 'ENAME': 'FORD', 'JOB': 'ANALYST', 'MGR': 7566, 'HIREDATE': '1981-12-03', 'SAL': 3000.0, 'DEPTNO': '20'}\n"
     ]
    }
   ],
   "source": [
    "# 급여가 2450보다 크거나 같은 데이터만 출력\n",
    "result = db.emp.find(\n",
    "    {\n",
    "        \"SAL\" : {\n",
    "            \"$gte\": 2450\n",
    "        }\n",
    "    }\n",
    ")\n",
    "for list in result:\n",
    "    print(list)\n",
    "\n",
    "# SELECT * FROM emp WHERE SAL >= 2450"
   ]
  },
  {
   "cell_type": "code",
   "execution_count": 57,
   "metadata": {},
   "outputs": [
    {
     "name": "stdout",
     "output_type": "stream",
     "text": [
      "{'_id': ObjectId('6232c695b5e5ff919f25b378'), 'EMPNO': 7369, 'ENAME': 'SMITH', 'JOB': 'CLERK', 'MGR': 7902, 'HIREDATE': '1980-12-17', 'SAL': 800.0, 'DEPTNO': '20'}\n",
      "{'_id': ObjectId('6232c695b5e5ff919f25b379'), 'EMPNO': 7499, 'ENAME': 'ALLEN', 'JOB': 'SALESMAN', 'MGR': 7698, 'HIREDATE': '1981-02-20', 'SAL': 1600.0, 'COMM': 300.0, 'DEPTNO': '30'}\n",
      "{'_id': ObjectId('6232c695b5e5ff919f25b37a'), 'EMPNO': 7521, 'ENAME': 'WARD', 'JOB': 'SALESMAN', 'MGR': 7698, 'HIREDATE': '1981-02-22', 'SAL': 1250.0, 'COMM': 500.0, 'DEPTNO': '30'}\n",
      "{'_id': ObjectId('6232c695b5e5ff919f25b37c'), 'EMPNO': 7654, 'ENAME': 'MARTIN', 'JOB': 'SALESMAN', 'MGR': 7698, 'HIREDATE': '1981-09-28', 'SAL': 1250.0, 'COMM': 1400.0, 'DEPTNO': '30'}\n",
      "{'_id': ObjectId('6232c695b5e5ff919f25b37e'), 'EMPNO': 7782, 'ENAME': 'CLARK', 'JOB': 'MANAGER', 'MGR': 7839, 'HIREDATE': '1981-06-09', 'SAL': 2450.0, 'DEPTNO': '10'}\n",
      "{'_id': ObjectId('6232c695b5e5ff919f25b381'), 'EMPNO': 7844, 'ENAME': 'TURNER', 'JOB': 'SALESMAN', 'MGR': 7698, 'HIREDATE': '1981-09-08', 'SAL': 1500.0, 'COMM': 0.0, 'DEPTNO': '30'}\n",
      "{'_id': ObjectId('6232c695b5e5ff919f25b382'), 'EMPNO': 7876, 'ENAME': 'ADAMS', 'JOB': 'CLERK', 'MGR': 7788, 'HIREDATE': '1987-07-13', 'SAL': 1100.0, 'DEPTNO': '20'}\n",
      "{'_id': ObjectId('6232c695b5e5ff919f25b383'), 'EMPNO': 7900, 'ENAME': 'JAMES', 'JOB': 'CLERK', 'MGR': 7698, 'HIREDATE': '1981-12-03', 'SAL': 950.0, 'DEPTNO': '30'}\n",
      "{'_id': ObjectId('6232c695b5e5ff919f25b385'), 'EMPNO': 7934, 'ENAME': 'MILLER', 'JOB': 'CLERK', 'MGR': 7782, 'HIREDATE': '1982-01-23', 'SAL': 1300.0, 'DEPTNO': '10'}\n"
     ]
    }
   ],
   "source": [
    "# 급여가 2450보다 작은 데이터만 출력\n",
    "result = db.emp.find(\n",
    "    {\n",
    "        \"SAL\" : {\n",
    "            \"$lte\": 2450\n",
    "        }\n",
    "    }\n",
    ")\n",
    "for list in result:\n",
    "    print(list)\n",
    "\n",
    "# SELECT * FROM emp WHERE SAL < 2450"
   ]
  },
  {
   "cell_type": "code",
   "execution_count": 62,
   "metadata": {},
   "outputs": [
    {
     "name": "stdout",
     "output_type": "stream",
     "text": [
      "{'_id': ObjectId('6232b71bb5e5ff919f25b358'), 'EMPNO': '7369', 'ENAME': 'SMITH', 'JOB': 'CLERK', 'MGR': '7902', 'HIREDATE': '1980-12-17', 'SAL': '800.00', 'DEPTNO': '20'}\n",
      "{'_id': ObjectId('6232b71bb5e5ff919f25b359'), 'EMPNO': '7499', 'ENAME': 'ALLEN', 'JOB': 'SALESMAN', 'MGR': '7698', 'HIREDATE': '1981-02-20', 'SAL': '1600.00', 'COMM': '300.00', 'DEPTNO': '30'}\n",
      "{'_id': ObjectId('6232c695b5e5ff919f25b378'), 'EMPNO': 7369, 'ENAME': 'SMITH', 'JOB': 'CLERK', 'MGR': 7902, 'HIREDATE': '1980-12-17', 'SAL': 800.0, 'DEPTNO': '20'}\n",
      "{'_id': ObjectId('6232c695b5e5ff919f25b379'), 'EMPNO': 7499, 'ENAME': 'ALLEN', 'JOB': 'SALESMAN', 'MGR': 7698, 'HIREDATE': '1981-02-20', 'SAL': 1600.0, 'COMM': 300.0, 'DEPTNO': '30'}\n"
     ]
    }
   ],
   "source": [
    "#SELECT * FROM emp WHERE ENAME = SMITH OR ENAME = ALLEN\n",
    "result = db.emp.find(\n",
    "    {\n",
    "        \"$or\" : [\n",
    "            {\n",
    "                \"ENAME\" : \"SMITH\"\n",
    "            },\n",
    "            {\n",
    "                \"ENAME\" : \"ALLEN\"\n",
    "            }\n",
    "        ]\n",
    "    }\n",
    ")\n",
    "for list in result:\n",
    "    print(list)"
   ]
  },
  {
   "cell_type": "code",
   "execution_count": 63,
   "metadata": {},
   "outputs": [
    {
     "name": "stdout",
     "output_type": "stream",
     "text": [
      "{'_id': ObjectId('6232b71bb5e5ff919f25b358'), 'EMPNO': '7369', 'ENAME': 'SMITH', 'JOB': 'CLERK', 'MGR': '7902', 'HIREDATE': '1980-12-17', 'SAL': '800.00', 'DEPTNO': '20'}\n",
      "{'_id': ObjectId('6232c695b5e5ff919f25b378'), 'EMPNO': 7369, 'ENAME': 'SMITH', 'JOB': 'CLERK', 'MGR': 7902, 'HIREDATE': '1980-12-17', 'SAL': 800.0, 'DEPTNO': '20'}\n"
     ]
    }
   ],
   "source": [
    "#SELECT * FROM emp WHERE ENAME = SMITH AND JOB = CLERK\n",
    "result = db.emp.find(\n",
    "    {\n",
    "        \"ENAME\" : \"SMITH\",\n",
    "        \"JOB\" : \"CLERK\"\n",
    "    }\n",
    ")\n",
    "for list in result:\n",
    "    print(list)"
   ]
  },
  {
   "cell_type": "code",
   "execution_count": 67,
   "metadata": {},
   "outputs": [
    {
     "data": {
      "text/html": [
       "<div>\n",
       "<style scoped>\n",
       "    .dataframe tbody tr th:only-of-type {\n",
       "        vertical-align: middle;\n",
       "    }\n",
       "\n",
       "    .dataframe tbody tr th {\n",
       "        vertical-align: top;\n",
       "    }\n",
       "\n",
       "    .dataframe thead th {\n",
       "        text-align: right;\n",
       "    }\n",
       "</style>\n",
       "<table border=\"1\" class=\"dataframe\">\n",
       "  <thead>\n",
       "    <tr style=\"text-align: right;\">\n",
       "      <th></th>\n",
       "      <th>EMPNO</th>\n",
       "      <th>ENAME</th>\n",
       "      <th>JOB</th>\n",
       "      <th>MGR</th>\n",
       "      <th>HIREDATE</th>\n",
       "      <th>SAL</th>\n",
       "      <th>DEPTNO</th>\n",
       "    </tr>\n",
       "  </thead>\n",
       "  <tbody>\n",
       "    <tr>\n",
       "      <th>0</th>\n",
       "      <td>7566</td>\n",
       "      <td>JONES</td>\n",
       "      <td>MANAGER</td>\n",
       "      <td>7839</td>\n",
       "      <td>1981-04-02</td>\n",
       "      <td>2975.0</td>\n",
       "      <td>20</td>\n",
       "    </tr>\n",
       "    <tr>\n",
       "      <th>1</th>\n",
       "      <td>7698</td>\n",
       "      <td>BLAKE</td>\n",
       "      <td>MANAGER</td>\n",
       "      <td>7839</td>\n",
       "      <td>1981-05-01</td>\n",
       "      <td>2850.0</td>\n",
       "      <td>30</td>\n",
       "    </tr>\n",
       "    <tr>\n",
       "      <th>2</th>\n",
       "      <td>7782</td>\n",
       "      <td>CLARK</td>\n",
       "      <td>MANAGER</td>\n",
       "      <td>7839</td>\n",
       "      <td>1981-06-09</td>\n",
       "      <td>2450.0</td>\n",
       "      <td>10</td>\n",
       "    </tr>\n",
       "    <tr>\n",
       "      <th>3</th>\n",
       "      <td>7788</td>\n",
       "      <td>SCOTT</td>\n",
       "      <td>ANALYST</td>\n",
       "      <td>7566</td>\n",
       "      <td>1987-06-28</td>\n",
       "      <td>3000.0</td>\n",
       "      <td>20</td>\n",
       "    </tr>\n",
       "    <tr>\n",
       "      <th>4</th>\n",
       "      <td>7902</td>\n",
       "      <td>FORD</td>\n",
       "      <td>ANALYST</td>\n",
       "      <td>7566</td>\n",
       "      <td>1981-12-03</td>\n",
       "      <td>3000.0</td>\n",
       "      <td>20</td>\n",
       "    </tr>\n",
       "  </tbody>\n",
       "</table>\n",
       "</div>"
      ],
      "text/plain": [
       "   EMPNO  ENAME      JOB   MGR    HIREDATE     SAL DEPTNO\n",
       "0   7566  JONES  MANAGER  7839  1981-04-02  2975.0     20\n",
       "1   7698  BLAKE  MANAGER  7839  1981-05-01  2850.0     30\n",
       "2   7782  CLARK  MANAGER  7839  1981-06-09  2450.0     10\n",
       "3   7788  SCOTT  ANALYST  7566  1987-06-28  3000.0     20\n",
       "4   7902   FORD  ANALYST  7566  1981-12-03  3000.0     20"
      ]
     },
     "execution_count": 67,
     "metadata": {},
     "output_type": "execute_result"
    }
   ],
   "source": [
    "#SELECT * FROM emp WHERE SAL >=2000 AND SAL < 4000\n",
    "result = db.emp.find(\n",
    "    {\n",
    "        \"SAL\" : {\n",
    "            \"$gte\" : 2000,\n",
    "            \"$lt\" : 4000\n",
    "        }\n",
    "    },\n",
    "    {\n",
    "        \"_id\" : 0\n",
    "    }\n",
    ")\n",
    "\n",
    "pd.DataFrame(result)\n",
    "# result\n"
   ]
  },
  {
   "cell_type": "code",
   "execution_count": 81,
   "metadata": {},
   "outputs": [
    {
     "data": {
      "text/html": [
       "<div>\n",
       "<style scoped>\n",
       "    .dataframe tbody tr th:only-of-type {\n",
       "        vertical-align: middle;\n",
       "    }\n",
       "\n",
       "    .dataframe tbody tr th {\n",
       "        vertical-align: top;\n",
       "    }\n",
       "\n",
       "    .dataframe thead th {\n",
       "        text-align: right;\n",
       "    }\n",
       "</style>\n",
       "<table border=\"1\" class=\"dataframe\">\n",
       "  <thead>\n",
       "    <tr style=\"text-align: right;\">\n",
       "      <th></th>\n",
       "      <th>_id</th>\n",
       "      <th>EMPNO</th>\n",
       "      <th>ENAME</th>\n",
       "      <th>JOB</th>\n",
       "      <th>MGR</th>\n",
       "      <th>HIREDATE</th>\n",
       "      <th>SAL</th>\n",
       "      <th>DEPTNO</th>\n",
       "    </tr>\n",
       "  </thead>\n",
       "  <tbody>\n",
       "    <tr>\n",
       "      <th>0</th>\n",
       "      <td>6232b71bb5e5ff919f25b358</td>\n",
       "      <td>7369</td>\n",
       "      <td>SMITH</td>\n",
       "      <td>CLERK</td>\n",
       "      <td>7902</td>\n",
       "      <td>1980-12-17</td>\n",
       "      <td>800.00</td>\n",
       "      <td>20</td>\n",
       "    </tr>\n",
       "    <tr>\n",
       "      <th>1</th>\n",
       "      <td>6232b71bb5e5ff919f25b35b</td>\n",
       "      <td>7566</td>\n",
       "      <td>JONES</td>\n",
       "      <td>MANAGER</td>\n",
       "      <td>7839</td>\n",
       "      <td>1981-04-02</td>\n",
       "      <td>2975.00</td>\n",
       "      <td>20</td>\n",
       "    </tr>\n",
       "    <tr>\n",
       "      <th>2</th>\n",
       "      <td>6232b71bb5e5ff919f25b35f</td>\n",
       "      <td>7788</td>\n",
       "      <td>SCOTT</td>\n",
       "      <td>ANALYST</td>\n",
       "      <td>7566</td>\n",
       "      <td>1987-06-28</td>\n",
       "      <td>3000.00</td>\n",
       "      <td>20</td>\n",
       "    </tr>\n",
       "    <tr>\n",
       "      <th>3</th>\n",
       "      <td>6232b71bb5e5ff919f25b362</td>\n",
       "      <td>7876</td>\n",
       "      <td>ADAMS</td>\n",
       "      <td>CLERK</td>\n",
       "      <td>7788</td>\n",
       "      <td>1987-07-13</td>\n",
       "      <td>1100.00</td>\n",
       "      <td>20</td>\n",
       "    </tr>\n",
       "    <tr>\n",
       "      <th>4</th>\n",
       "      <td>6232b71bb5e5ff919f25b363</td>\n",
       "      <td>7900</td>\n",
       "      <td>JAMES</td>\n",
       "      <td>CLERK</td>\n",
       "      <td>7698</td>\n",
       "      <td>1981-12-03</td>\n",
       "      <td>950.00</td>\n",
       "      <td>30</td>\n",
       "    </tr>\n",
       "    <tr>\n",
       "      <th>5</th>\n",
       "      <td>6232c695b5e5ff919f25b378</td>\n",
       "      <td>7369</td>\n",
       "      <td>SMITH</td>\n",
       "      <td>CLERK</td>\n",
       "      <td>7902</td>\n",
       "      <td>1980-12-17</td>\n",
       "      <td>800.0</td>\n",
       "      <td>20</td>\n",
       "    </tr>\n",
       "    <tr>\n",
       "      <th>6</th>\n",
       "      <td>6232c695b5e5ff919f25b37b</td>\n",
       "      <td>7566</td>\n",
       "      <td>JONES</td>\n",
       "      <td>MANAGER</td>\n",
       "      <td>7839</td>\n",
       "      <td>1981-04-02</td>\n",
       "      <td>2975.0</td>\n",
       "      <td>20</td>\n",
       "    </tr>\n",
       "    <tr>\n",
       "      <th>7</th>\n",
       "      <td>6232c695b5e5ff919f25b37f</td>\n",
       "      <td>7788</td>\n",
       "      <td>SCOTT</td>\n",
       "      <td>ANALYST</td>\n",
       "      <td>7566</td>\n",
       "      <td>1987-06-28</td>\n",
       "      <td>3000.0</td>\n",
       "      <td>20</td>\n",
       "    </tr>\n",
       "    <tr>\n",
       "      <th>8</th>\n",
       "      <td>6232c695b5e5ff919f25b382</td>\n",
       "      <td>7876</td>\n",
       "      <td>ADAMS</td>\n",
       "      <td>CLERK</td>\n",
       "      <td>7788</td>\n",
       "      <td>1987-07-13</td>\n",
       "      <td>1100.0</td>\n",
       "      <td>20</td>\n",
       "    </tr>\n",
       "    <tr>\n",
       "      <th>9</th>\n",
       "      <td>6232c695b5e5ff919f25b383</td>\n",
       "      <td>7900</td>\n",
       "      <td>JAMES</td>\n",
       "      <td>CLERK</td>\n",
       "      <td>7698</td>\n",
       "      <td>1981-12-03</td>\n",
       "      <td>950.0</td>\n",
       "      <td>30</td>\n",
       "    </tr>\n",
       "  </tbody>\n",
       "</table>\n",
       "</div>"
      ],
      "text/plain": [
       "                        _id EMPNO  ENAME      JOB   MGR    HIREDATE      SAL  \\\n",
       "0  6232b71bb5e5ff919f25b358  7369  SMITH    CLERK  7902  1980-12-17   800.00   \n",
       "1  6232b71bb5e5ff919f25b35b  7566  JONES  MANAGER  7839  1981-04-02  2975.00   \n",
       "2  6232b71bb5e5ff919f25b35f  7788  SCOTT  ANALYST  7566  1987-06-28  3000.00   \n",
       "3  6232b71bb5e5ff919f25b362  7876  ADAMS    CLERK  7788  1987-07-13  1100.00   \n",
       "4  6232b71bb5e5ff919f25b363  7900  JAMES    CLERK  7698  1981-12-03   950.00   \n",
       "5  6232c695b5e5ff919f25b378  7369  SMITH    CLERK  7902  1980-12-17    800.0   \n",
       "6  6232c695b5e5ff919f25b37b  7566  JONES  MANAGER  7839  1981-04-02   2975.0   \n",
       "7  6232c695b5e5ff919f25b37f  7788  SCOTT  ANALYST  7566  1987-06-28   3000.0   \n",
       "8  6232c695b5e5ff919f25b382  7876  ADAMS    CLERK  7788  1987-07-13   1100.0   \n",
       "9  6232c695b5e5ff919f25b383  7900  JAMES    CLERK  7698  1981-12-03    950.0   \n",
       "\n",
       "  DEPTNO  \n",
       "0     20  \n",
       "1     20  \n",
       "2     20  \n",
       "3     20  \n",
       "4     30  \n",
       "5     20  \n",
       "6     20  \n",
       "7     20  \n",
       "8     20  \n",
       "9     30  "
      ]
     },
     "execution_count": 81,
     "metadata": {},
     "output_type": "execute_result"
    }
   ],
   "source": [
    "#SELECT * FROM emp WHERE ENAME LIKE %S%\n",
    "result = db.emp.find(\n",
    "    {\n",
    "        \"ENAME\" : {\n",
    "            \"$regex\" : \"S\"\n",
    "        }\n",
    "    }\n",
    ")\n",
    "pd.DataFrame(result)"
   ]
  },
  {
   "cell_type": "code",
   "execution_count": 82,
   "metadata": {},
   "outputs": [
    {
     "data": {
      "text/html": [
       "<div>\n",
       "<style scoped>\n",
       "    .dataframe tbody tr th:only-of-type {\n",
       "        vertical-align: middle;\n",
       "    }\n",
       "\n",
       "    .dataframe tbody tr th {\n",
       "        vertical-align: top;\n",
       "    }\n",
       "\n",
       "    .dataframe thead th {\n",
       "        text-align: right;\n",
       "    }\n",
       "</style>\n",
       "<table border=\"1\" class=\"dataframe\">\n",
       "  <thead>\n",
       "    <tr style=\"text-align: right;\">\n",
       "      <th></th>\n",
       "      <th>_id</th>\n",
       "      <th>EMPNO</th>\n",
       "      <th>ENAME</th>\n",
       "      <th>JOB</th>\n",
       "      <th>MGR</th>\n",
       "      <th>HIREDATE</th>\n",
       "      <th>SAL</th>\n",
       "      <th>DEPTNO</th>\n",
       "    </tr>\n",
       "  </thead>\n",
       "  <tbody>\n",
       "    <tr>\n",
       "      <th>0</th>\n",
       "      <td>6232b71bb5e5ff919f25b358</td>\n",
       "      <td>7369</td>\n",
       "      <td>SMITH</td>\n",
       "      <td>CLERK</td>\n",
       "      <td>7902</td>\n",
       "      <td>1980-12-17</td>\n",
       "      <td>800.00</td>\n",
       "      <td>20</td>\n",
       "    </tr>\n",
       "    <tr>\n",
       "      <th>1</th>\n",
       "      <td>6232b71bb5e5ff919f25b35f</td>\n",
       "      <td>7788</td>\n",
       "      <td>SCOTT</td>\n",
       "      <td>ANALYST</td>\n",
       "      <td>7566</td>\n",
       "      <td>1987-06-28</td>\n",
       "      <td>3000.00</td>\n",
       "      <td>20</td>\n",
       "    </tr>\n",
       "    <tr>\n",
       "      <th>2</th>\n",
       "      <td>6232c695b5e5ff919f25b378</td>\n",
       "      <td>7369</td>\n",
       "      <td>SMITH</td>\n",
       "      <td>CLERK</td>\n",
       "      <td>7902</td>\n",
       "      <td>1980-12-17</td>\n",
       "      <td>800.0</td>\n",
       "      <td>20</td>\n",
       "    </tr>\n",
       "    <tr>\n",
       "      <th>3</th>\n",
       "      <td>6232c695b5e5ff919f25b37f</td>\n",
       "      <td>7788</td>\n",
       "      <td>SCOTT</td>\n",
       "      <td>ANALYST</td>\n",
       "      <td>7566</td>\n",
       "      <td>1987-06-28</td>\n",
       "      <td>3000.0</td>\n",
       "      <td>20</td>\n",
       "    </tr>\n",
       "  </tbody>\n",
       "</table>\n",
       "</div>"
      ],
      "text/plain": [
       "                        _id EMPNO  ENAME      JOB   MGR    HIREDATE      SAL  \\\n",
       "0  6232b71bb5e5ff919f25b358  7369  SMITH    CLERK  7902  1980-12-17   800.00   \n",
       "1  6232b71bb5e5ff919f25b35f  7788  SCOTT  ANALYST  7566  1987-06-28  3000.00   \n",
       "2  6232c695b5e5ff919f25b378  7369  SMITH    CLERK  7902  1980-12-17    800.0   \n",
       "3  6232c695b5e5ff919f25b37f  7788  SCOTT  ANALYST  7566  1987-06-28   3000.0   \n",
       "\n",
       "  DEPTNO  \n",
       "0     20  \n",
       "1     20  \n",
       "2     20  \n",
       "3     20  "
      ]
     },
     "execution_count": 82,
     "metadata": {},
     "output_type": "execute_result"
    }
   ],
   "source": [
    "#SELECT * FROM emp WHERE ENAME LIKE S%\n",
    "result = db.emp.find(\n",
    "    {\n",
    "        \"ENAME\" : {\n",
    "            \"$regex\" : \"^S\"\n",
    "        }\n",
    "    }\n",
    ")\n",
    "pd.DataFrame(result)"
   ]
  },
  {
   "cell_type": "code",
   "execution_count": 85,
   "metadata": {},
   "outputs": [
    {
     "data": {
      "text/html": [
       "<div>\n",
       "<style scoped>\n",
       "    .dataframe tbody tr th:only-of-type {\n",
       "        vertical-align: middle;\n",
       "    }\n",
       "\n",
       "    .dataframe tbody tr th {\n",
       "        vertical-align: top;\n",
       "    }\n",
       "\n",
       "    .dataframe thead th {\n",
       "        text-align: right;\n",
       "    }\n",
       "</style>\n",
       "<table border=\"1\" class=\"dataframe\">\n",
       "  <thead>\n",
       "    <tr style=\"text-align: right;\">\n",
       "      <th></th>\n",
       "      <th>_id</th>\n",
       "      <th>EMPNO</th>\n",
       "      <th>ENAME</th>\n",
       "      <th>JOB</th>\n",
       "      <th>MGR</th>\n",
       "      <th>HIREDATE</th>\n",
       "      <th>SAL</th>\n",
       "      <th>DEPTNO</th>\n",
       "    </tr>\n",
       "  </thead>\n",
       "  <tbody>\n",
       "    <tr>\n",
       "      <th>0</th>\n",
       "      <td>6232b71bb5e5ff919f25b35b</td>\n",
       "      <td>7566</td>\n",
       "      <td>JONES</td>\n",
       "      <td>MANAGER</td>\n",
       "      <td>7839</td>\n",
       "      <td>1981-04-02</td>\n",
       "      <td>2975.00</td>\n",
       "      <td>20</td>\n",
       "    </tr>\n",
       "    <tr>\n",
       "      <th>1</th>\n",
       "      <td>6232b71bb5e5ff919f25b362</td>\n",
       "      <td>7876</td>\n",
       "      <td>ADAMS</td>\n",
       "      <td>CLERK</td>\n",
       "      <td>7788</td>\n",
       "      <td>1987-07-13</td>\n",
       "      <td>1100.00</td>\n",
       "      <td>20</td>\n",
       "    </tr>\n",
       "    <tr>\n",
       "      <th>2</th>\n",
       "      <td>6232b71bb5e5ff919f25b363</td>\n",
       "      <td>7900</td>\n",
       "      <td>JAMES</td>\n",
       "      <td>CLERK</td>\n",
       "      <td>7698</td>\n",
       "      <td>1981-12-03</td>\n",
       "      <td>950.00</td>\n",
       "      <td>30</td>\n",
       "    </tr>\n",
       "    <tr>\n",
       "      <th>3</th>\n",
       "      <td>6232c695b5e5ff919f25b37b</td>\n",
       "      <td>7566</td>\n",
       "      <td>JONES</td>\n",
       "      <td>MANAGER</td>\n",
       "      <td>7839</td>\n",
       "      <td>1981-04-02</td>\n",
       "      <td>2975.0</td>\n",
       "      <td>20</td>\n",
       "    </tr>\n",
       "    <tr>\n",
       "      <th>4</th>\n",
       "      <td>6232c695b5e5ff919f25b382</td>\n",
       "      <td>7876</td>\n",
       "      <td>ADAMS</td>\n",
       "      <td>CLERK</td>\n",
       "      <td>7788</td>\n",
       "      <td>1987-07-13</td>\n",
       "      <td>1100.0</td>\n",
       "      <td>20</td>\n",
       "    </tr>\n",
       "    <tr>\n",
       "      <th>5</th>\n",
       "      <td>6232c695b5e5ff919f25b383</td>\n",
       "      <td>7900</td>\n",
       "      <td>JAMES</td>\n",
       "      <td>CLERK</td>\n",
       "      <td>7698</td>\n",
       "      <td>1981-12-03</td>\n",
       "      <td>950.0</td>\n",
       "      <td>30</td>\n",
       "    </tr>\n",
       "  </tbody>\n",
       "</table>\n",
       "</div>"
      ],
      "text/plain": [
       "                        _id EMPNO  ENAME      JOB   MGR    HIREDATE      SAL  \\\n",
       "0  6232b71bb5e5ff919f25b35b  7566  JONES  MANAGER  7839  1981-04-02  2975.00   \n",
       "1  6232b71bb5e5ff919f25b362  7876  ADAMS    CLERK  7788  1987-07-13  1100.00   \n",
       "2  6232b71bb5e5ff919f25b363  7900  JAMES    CLERK  7698  1981-12-03   950.00   \n",
       "3  6232c695b5e5ff919f25b37b  7566  JONES  MANAGER  7839  1981-04-02   2975.0   \n",
       "4  6232c695b5e5ff919f25b382  7876  ADAMS    CLERK  7788  1987-07-13   1100.0   \n",
       "5  6232c695b5e5ff919f25b383  7900  JAMES    CLERK  7698  1981-12-03    950.0   \n",
       "\n",
       "  DEPTNO  \n",
       "0     20  \n",
       "1     20  \n",
       "2     30  \n",
       "3     20  \n",
       "4     20  \n",
       "5     30  "
      ]
     },
     "execution_count": 85,
     "metadata": {},
     "output_type": "execute_result"
    }
   ],
   "source": [
    "#SELECT * FROM emp WHERE ENAME LIKE %S\n",
    "result = db.emp.find(\n",
    "    {\n",
    "        \"ENAME\" : {\n",
    "            \"$regex\" : \"S$\"\n",
    "        }\n",
    "    }\n",
    ")\n",
    "pd.DataFrame(result)"
   ]
  },
  {
   "cell_type": "code",
   "execution_count": 88,
   "metadata": {},
   "outputs": [
    {
     "data": {
      "text/html": [
       "<div>\n",
       "<style scoped>\n",
       "    .dataframe tbody tr th:only-of-type {\n",
       "        vertical-align: middle;\n",
       "    }\n",
       "\n",
       "    .dataframe tbody tr th {\n",
       "        vertical-align: top;\n",
       "    }\n",
       "\n",
       "    .dataframe thead th {\n",
       "        text-align: right;\n",
       "    }\n",
       "</style>\n",
       "<table border=\"1\" class=\"dataframe\">\n",
       "  <thead>\n",
       "    <tr style=\"text-align: right;\">\n",
       "      <th></th>\n",
       "      <th>ENAME</th>\n",
       "      <th>JOB</th>\n",
       "      <th>SAL</th>\n",
       "      <th>DEPTNO</th>\n",
       "    </tr>\n",
       "  </thead>\n",
       "  <tbody>\n",
       "    <tr>\n",
       "      <th>0</th>\n",
       "      <td>TURNER</td>\n",
       "      <td>SALESMAN</td>\n",
       "      <td>1500.0</td>\n",
       "      <td>30</td>\n",
       "    </tr>\n",
       "    <tr>\n",
       "      <th>1</th>\n",
       "      <td>ALLEN</td>\n",
       "      <td>SALESMAN</td>\n",
       "      <td>1600.0</td>\n",
       "      <td>30</td>\n",
       "    </tr>\n",
       "  </tbody>\n",
       "</table>\n",
       "</div>"
      ],
      "text/plain": [
       "    ENAME       JOB     SAL DEPTNO\n",
       "0  TURNER  SALESMAN  1500.0     30\n",
       "1   ALLEN  SALESMAN  1600.0     30"
      ]
     },
     "execution_count": 88,
     "metadata": {},
     "output_type": "execute_result"
    }
   ],
   "source": [
    "# SELECT ENAME, JOB, SAL, DEPTNO FROM emp \n",
    "# WHERE SAL > 1250 AND \n",
    "# SAL <= 3000 AND \n",
    "# JOB = SALESMAN \n",
    "# ORDER BY ENAME \n",
    "result = db.emp.find(\n",
    "    {\n",
    "        \"SAL\" : {\n",
    "            \"$gt\" : 1250,\n",
    "            \"$lte\" : 3000\n",
    "        },\n",
    "        \"JOB\" : \"SALESMAN\"\n",
    "    },\n",
    "    {\n",
    "        \"ENAME\" : 1,\n",
    "        \"JOB\" : 1,\n",
    "        \"SAL\" : 1,\n",
    "        \"DEPTNO\" : 1,\n",
    "        \"_id\" : 0\n",
    "    }\n",
    ").sort(\"ENAME\", -1)\n",
    "\n",
    "pd.DataFrame(result)\n"
   ]
  },
  {
   "cell_type": "code",
   "execution_count": null,
   "metadata": {},
   "outputs": [],
   "source": []
  }
 ],
 "metadata": {
  "interpreter": {
   "hash": "c22e33c9a27a2bb1a040a4ca92603677d3f3eab3ec561d889cf82069a29b9323"
  },
  "kernelspec": {
   "display_name": "Python 3.10.2 64-bit",
   "language": "python",
   "name": "python3"
  },
  "language_info": {
   "codemirror_mode": {
    "name": "ipython",
    "version": 3
   },
   "file_extension": ".py",
   "mimetype": "text/x-python",
   "name": "python",
   "nbconvert_exporter": "python",
   "pygments_lexer": "ipython3",
   "version": "3.10.2"
  },
  "orig_nbformat": 4
 },
 "nbformat": 4,
 "nbformat_minor": 2
}
