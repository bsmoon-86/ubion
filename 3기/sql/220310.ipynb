{
 "cells": [
  {
   "cell_type": "code",
   "execution_count": 1,
   "metadata": {},
   "outputs": [],
   "source": [
    "import pymysql\n",
    "import pandas as pd"
   ]
  },
  {
   "cell_type": "code",
   "execution_count": 2,
   "metadata": {},
   "outputs": [],
   "source": [
    "_db = pymysql.connect(\n",
    "    user = \"root\",\n",
    "    passwd = \"1234\",\n",
    "    host = \"localhost\",\n",
    "    db = \"ubion\"\n",
    ")"
   ]
  },
  {
   "cell_type": "code",
   "execution_count": 3,
   "metadata": {},
   "outputs": [],
   "source": [
    "cursor = _db.cursor(pymysql.cursors.DictCursor)"
   ]
  },
  {
   "cell_type": "code",
   "execution_count": 16,
   "metadata": {},
   "outputs": [
    {
     "name": "stdout",
     "output_type": "stream",
     "text": [
      "[{'ID': 'test', 'password': '1234', 'name': '고길동', 'phone': '01012345678', 'ads': '서울시 강북구 쌍문동', 'gender': 1, 'age': 45, 'regit_date': '20220310'}, {'ID': 'test2', 'password': '5678', 'name': '둘리', 'phone': '01098765432', 'ads': '북극 어딘가', 'gender': 1, 'age': 10, 'regit_date': '20220310'}, {'ID': 'test3', 'password': '8513', 'name': '마이콜', 'phone': '01048426489', 'ads': '고길동 옆 집', 'gender': 1, 'age': 28, 'regit_date': '20220310'}, {'ID': 'test4', 'password': '4521', 'name': '또치', 'phone': '01051247856', 'ads': '동물원', 'gender': 2, 'age': 4, 'regit_date': '20200310'}, {'ID': 'test5', 'password': '5555', 'name': '도우너', 'phone': '01012345678', 'ads': '깐따삐아', 'gender': 1, 'age': 10, 'regit_date': '20220310'}]\n"
     ]
    }
   ],
   "source": [
    "sql = \"SELECT * FROM user_info\"\n",
    "\n",
    "cursor.execute(sql)\n",
    "result = cursor.fetchall()\n",
    "print(result)"
   ]
  },
  {
   "cell_type": "code",
   "execution_count": 17,
   "metadata": {},
   "outputs": [
    {
     "data": {
      "text/html": [
       "<div>\n",
       "<style scoped>\n",
       "    .dataframe tbody tr th:only-of-type {\n",
       "        vertical-align: middle;\n",
       "    }\n",
       "\n",
       "    .dataframe tbody tr th {\n",
       "        vertical-align: top;\n",
       "    }\n",
       "\n",
       "    .dataframe thead th {\n",
       "        text-align: right;\n",
       "    }\n",
       "</style>\n",
       "<table border=\"1\" class=\"dataframe\">\n",
       "  <thead>\n",
       "    <tr style=\"text-align: right;\">\n",
       "      <th></th>\n",
       "      <th>ID</th>\n",
       "      <th>password</th>\n",
       "      <th>name</th>\n",
       "      <th>phone</th>\n",
       "      <th>ads</th>\n",
       "      <th>gender</th>\n",
       "      <th>age</th>\n",
       "      <th>regit_date</th>\n",
       "    </tr>\n",
       "  </thead>\n",
       "  <tbody>\n",
       "    <tr>\n",
       "      <th>0</th>\n",
       "      <td>test</td>\n",
       "      <td>1234</td>\n",
       "      <td>고길동</td>\n",
       "      <td>01012345678</td>\n",
       "      <td>서울시 강북구 쌍문동</td>\n",
       "      <td>1</td>\n",
       "      <td>45</td>\n",
       "      <td>20220310</td>\n",
       "    </tr>\n",
       "    <tr>\n",
       "      <th>1</th>\n",
       "      <td>test2</td>\n",
       "      <td>5678</td>\n",
       "      <td>둘리</td>\n",
       "      <td>01098765432</td>\n",
       "      <td>북극 어딘가</td>\n",
       "      <td>1</td>\n",
       "      <td>10</td>\n",
       "      <td>20220310</td>\n",
       "    </tr>\n",
       "    <tr>\n",
       "      <th>2</th>\n",
       "      <td>test3</td>\n",
       "      <td>8513</td>\n",
       "      <td>마이콜</td>\n",
       "      <td>01048426489</td>\n",
       "      <td>고길동 옆 집</td>\n",
       "      <td>1</td>\n",
       "      <td>28</td>\n",
       "      <td>20220310</td>\n",
       "    </tr>\n",
       "    <tr>\n",
       "      <th>3</th>\n",
       "      <td>test4</td>\n",
       "      <td>4521</td>\n",
       "      <td>또치</td>\n",
       "      <td>01051247856</td>\n",
       "      <td>동물원</td>\n",
       "      <td>2</td>\n",
       "      <td>4</td>\n",
       "      <td>20200310</td>\n",
       "    </tr>\n",
       "    <tr>\n",
       "      <th>4</th>\n",
       "      <td>test5</td>\n",
       "      <td>5555</td>\n",
       "      <td>도우너</td>\n",
       "      <td>01012345678</td>\n",
       "      <td>깐따삐아</td>\n",
       "      <td>1</td>\n",
       "      <td>10</td>\n",
       "      <td>20220310</td>\n",
       "    </tr>\n",
       "  </tbody>\n",
       "</table>\n",
       "</div>"
      ],
      "text/plain": [
       "      ID password name        phone          ads  gender  age regit_date\n",
       "0   test     1234  고길동  01012345678  서울시 강북구 쌍문동       1   45   20220310\n",
       "1  test2     5678   둘리  01098765432       북극 어딘가       1   10   20220310\n",
       "2  test3     8513  마이콜  01048426489      고길동 옆 집       1   28   20220310\n",
       "3  test4     4521   또치  01051247856          동물원       2    4   20200310\n",
       "4  test5     5555  도우너  01012345678         깐따삐아       1   10   20220310"
      ]
     },
     "execution_count": 17,
     "metadata": {},
     "output_type": "execute_result"
    }
   ],
   "source": [
    "# result를 데이터프레임으로 만들어봅시다!!!\n",
    "# 변수명 dt로 \n",
    "dt = pd.DataFrame(result)\n",
    "dt"
   ]
  },
  {
   "cell_type": "code",
   "execution_count": 18,
   "metadata": {},
   "outputs": [],
   "source": [
    "sql = \"insert into user_info values (%s, %s, %s, %s, %s, %s, %s, %s)\"\n",
    "values = [\"test4\", \"4521\", \"또치\", \"01051247856\", \"동물원\", 2, 4, \"20200310\"]\n",
    "\n",
    "cursor.execute(sql, values)\n",
    "_db.commit()"
   ]
  },
  {
   "cell_type": "code",
   "execution_count": 31,
   "metadata": {},
   "outputs": [
    {
     "name": "stdout",
     "output_type": "stream",
     "text": [
      "['test5', '5555', '도우너', '01055551111', '깐따삐아', 1, 10, '20220310']\n",
      "<class 'list'>\n"
     ]
    }
   ],
   "source": [
    "sql = \"insert into user_info values (%s, %s, %s, %s, %s, %s, %s, %s)\"\n",
    "\n",
    "x = input(\"ID : \")\n",
    "pw = input(\"password : \")\n",
    "name = input(\"name : \")\n",
    "phone = input(\"phone : \")\n",
    "ads = input(\"address : \")\n",
    "gender = int(input(\"gender : \"))\n",
    "age = int(input(\"age : \"))\n",
    "regit_date = input(\"regit_date : \")\n",
    "\n",
    "input_list = [x, pw, name, phone, ads, gender, age, regit_date]\n",
    "print(input_list)\n",
    "print(type(input_list))\n",
    "\n",
    "cursor.execute(sql, input_list)\n",
    "_db.commit()\n"
   ]
  },
  {
   "cell_type": "code",
   "execution_count": 33,
   "metadata": {},
   "outputs": [
    {
     "data": {
      "text/plain": [
       "int"
      ]
     },
     "execution_count": 33,
     "metadata": {},
     "output_type": "execute_result"
    }
   ],
   "source": [
    "x = int(input(\"x : \"))\n",
    "\n",
    "type(x)"
   ]
  },
  {
   "cell_type": "code",
   "execution_count": 8,
   "metadata": {},
   "outputs": [],
   "source": [
    "update_sql =\"\"\" \n",
    "                UPDATE user_info \n",
    "                SET phone = \"01012345678\"\n",
    "                WHERE name = \"도우너\"\n",
    "            \"\"\"\n",
    "cursor.execute(update_sql)\n",
    "_db.commit()\n"
   ]
  },
  {
   "cell_type": "code",
   "execution_count": 15,
   "metadata": {},
   "outputs": [],
   "source": [
    "delete_sql =\"\"\"\n",
    "            DELETE FROM user_info \n",
    "            WHERE ID = \"1\"\n",
    "            \"\"\"\n",
    "cursor.execute(delete_sql)\n",
    "_db.commit()"
   ]
  },
  {
   "cell_type": "code",
   "execution_count": null,
   "metadata": {},
   "outputs": [],
   "source": []
  }
 ],
 "metadata": {
  "interpreter": {
   "hash": "c22e33c9a27a2bb1a040a4ca92603677d3f3eab3ec561d889cf82069a29b9323"
  },
  "kernelspec": {
   "display_name": "Python 3.10.2 64-bit",
   "language": "python",
   "name": "python3"
  },
  "language_info": {
   "codemirror_mode": {
    "name": "ipython",
    "version": 3
   },
   "file_extension": ".py",
   "mimetype": "text/x-python",
   "name": "python",
   "nbconvert_exporter": "python",
   "pygments_lexer": "ipython3",
   "version": "3.10.2"
  },
  "orig_nbformat": 4
 },
 "nbformat": 4,
 "nbformat_minor": 2
}
